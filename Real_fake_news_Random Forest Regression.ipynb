{
 "cells": [
  {
   "cell_type": "code",
   "execution_count": 1,
   "id": "f385c915",
   "metadata": {},
   "outputs": [],
   "source": [
    "import numpy as np\n",
    "import pandas as pd\n",
    "import matplotlib.pyplot as plt\n",
    "%matplotlib inline"
   ]
  },
  {
   "cell_type": "code",
   "execution_count": 2,
   "id": "8e983833",
   "metadata": {},
   "outputs": [],
   "source": [
    "df = pd.read_csv('Real Fake News.csv')"
   ]
  },
  {
   "cell_type": "code",
   "execution_count": 3,
   "id": "07473a9a",
   "metadata": {},
   "outputs": [
    {
     "data": {
      "text/html": [
       "<div>\n",
       "<style scoped>\n",
       "    .dataframe tbody tr th:only-of-type {\n",
       "        vertical-align: middle;\n",
       "    }\n",
       "\n",
       "    .dataframe tbody tr th {\n",
       "        vertical-align: top;\n",
       "    }\n",
       "\n",
       "    .dataframe thead th {\n",
       "        text-align: right;\n",
       "    }\n",
       "</style>\n",
       "<table border=\"1\" class=\"dataframe\">\n",
       "  <thead>\n",
       "    <tr style=\"text-align: right;\">\n",
       "      <th></th>\n",
       "      <th>Unnamed: 0</th>\n",
       "      <th>Unnamed: 0.1</th>\n",
       "      <th>author</th>\n",
       "      <th>statement</th>\n",
       "      <th>source</th>\n",
       "      <th>target</th>\n",
       "      <th>BinaryTarget</th>\n",
       "      <th>BinaryNumTarget</th>\n",
       "    </tr>\n",
       "  </thead>\n",
       "  <tbody>\n",
       "    <tr>\n",
       "      <th>0</th>\n",
       "      <td>0</td>\n",
       "      <td>0</td>\n",
       "      <td>Jill Terreri</td>\n",
       "      <td>New York is \"leading the nation with the lowes...</td>\n",
       "      <td>NYS Department of Corrections and Community Su...</td>\n",
       "      <td>True</td>\n",
       "      <td>REAL</td>\n",
       "      <td>1</td>\n",
       "    </tr>\n",
       "    <tr>\n",
       "      <th>1</th>\n",
       "      <td>1</td>\n",
       "      <td>1</td>\n",
       "      <td>Eleanor Hildebrandt</td>\n",
       "      <td>“Iowa ranks 45th in the U.S. for internet conn...</td>\n",
       "      <td>Cindy Axne</td>\n",
       "      <td>True</td>\n",
       "      <td>REAL</td>\n",
       "      <td>1</td>\n",
       "    </tr>\n",
       "    <tr>\n",
       "      <th>2</th>\n",
       "      <td>2</td>\n",
       "      <td>2</td>\n",
       "      <td>Emily Zirkelbach</td>\n",
       "      <td>“FUN FACT: West Virginia is home to zero billi...</td>\n",
       "      <td>David Gura</td>\n",
       "      <td>True</td>\n",
       "      <td>REAL</td>\n",
       "      <td>1</td>\n",
       "    </tr>\n",
       "    <tr>\n",
       "      <th>3</th>\n",
       "      <td>3</td>\n",
       "      <td>3</td>\n",
       "      <td>Madeline Heim</td>\n",
       "      <td>Says gubernatorial candidate Rebecca Kleefisch...</td>\n",
       "      <td>Kelda Helen Roys</td>\n",
       "      <td>True</td>\n",
       "      <td>REAL</td>\n",
       "      <td>1</td>\n",
       "    </tr>\n",
       "    <tr>\n",
       "      <th>4</th>\n",
       "      <td>4</td>\n",
       "      <td>4</td>\n",
       "      <td>Sabine Martin</td>\n",
       "      <td>The Biden administration \"published a study co...</td>\n",
       "      <td>Randy Feenstra</td>\n",
       "      <td>True</td>\n",
       "      <td>REAL</td>\n",
       "      <td>1</td>\n",
       "    </tr>\n",
       "  </tbody>\n",
       "</table>\n",
       "</div>"
      ],
      "text/plain": [
       "   Unnamed: 0  Unnamed: 0.1               author  \\\n",
       "0           0             0         Jill Terreri   \n",
       "1           1             1  Eleanor Hildebrandt   \n",
       "2           2             2     Emily Zirkelbach   \n",
       "3           3             3        Madeline Heim   \n",
       "4           4             4        Sabine Martin   \n",
       "\n",
       "                                           statement  \\\n",
       "0  New York is \"leading the nation with the lowes...   \n",
       "1  “Iowa ranks 45th in the U.S. for internet conn...   \n",
       "2  “FUN FACT: West Virginia is home to zero billi...   \n",
       "3  Says gubernatorial candidate Rebecca Kleefisch...   \n",
       "4  The Biden administration \"published a study co...   \n",
       "\n",
       "                                              source  target BinaryTarget  \\\n",
       "0  NYS Department of Corrections and Community Su...    True         REAL   \n",
       "1                                         Cindy Axne    True         REAL   \n",
       "2                                         David Gura    True         REAL   \n",
       "3                                   Kelda Helen Roys    True         REAL   \n",
       "4                                     Randy Feenstra    True         REAL   \n",
       "\n",
       "   BinaryNumTarget  \n",
       "0                1  \n",
       "1                1  \n",
       "2                1  \n",
       "3                1  \n",
       "4                1  "
      ]
     },
     "execution_count": 3,
     "metadata": {},
     "output_type": "execute_result"
    }
   ],
   "source": [
    "#Data Exploration\n",
    "df.head()"
   ]
  },
  {
   "cell_type": "code",
   "execution_count": 4,
   "id": "312d38aa",
   "metadata": {},
   "outputs": [
    {
     "data": {
      "text/html": [
       "<div>\n",
       "<style scoped>\n",
       "    .dataframe tbody tr th:only-of-type {\n",
       "        vertical-align: middle;\n",
       "    }\n",
       "\n",
       "    .dataframe tbody tr th {\n",
       "        vertical-align: top;\n",
       "    }\n",
       "\n",
       "    .dataframe thead th {\n",
       "        text-align: right;\n",
       "    }\n",
       "</style>\n",
       "<table border=\"1\" class=\"dataframe\">\n",
       "  <thead>\n",
       "    <tr style=\"text-align: right;\">\n",
       "      <th></th>\n",
       "      <th>Unnamed: 0</th>\n",
       "      <th>Unnamed: 0.1</th>\n",
       "      <th>author</th>\n",
       "      <th>statement</th>\n",
       "      <th>source</th>\n",
       "      <th>target</th>\n",
       "      <th>BinaryTarget</th>\n",
       "      <th>BinaryNumTarget</th>\n",
       "    </tr>\n",
       "  </thead>\n",
       "  <tbody>\n",
       "    <tr>\n",
       "      <th>4868</th>\n",
       "      <td>2434</td>\n",
       "      <td>2434</td>\n",
       "      <td>Manuela Tobias</td>\n",
       "      <td>\"Maxine Waters Is Getting Criminally Charged!\"</td>\n",
       "      <td>Bloggers</td>\n",
       "      <td>False</td>\n",
       "      <td>FAKE</td>\n",
       "      <td>0</td>\n",
       "    </tr>\n",
       "    <tr>\n",
       "      <th>4869</th>\n",
       "      <td>2435</td>\n",
       "      <td>2435</td>\n",
       "      <td>Bill McCarthy</td>\n",
       "      <td>\"Twitter caught leaking Donald Trump’s private...</td>\n",
       "      <td>Bloggers</td>\n",
       "      <td>False</td>\n",
       "      <td>FAKE</td>\n",
       "      <td>0</td>\n",
       "    </tr>\n",
       "  </tbody>\n",
       "</table>\n",
       "</div>"
      ],
      "text/plain": [
       "      Unnamed: 0  Unnamed: 0.1          author  \\\n",
       "4868        2434          2434  Manuela Tobias   \n",
       "4869        2435          2435   Bill McCarthy   \n",
       "\n",
       "                                              statement    source  target  \\\n",
       "4868     \"Maxine Waters Is Getting Criminally Charged!\"  Bloggers   False   \n",
       "4869  \"Twitter caught leaking Donald Trump’s private...  Bloggers   False   \n",
       "\n",
       "     BinaryTarget  BinaryNumTarget  \n",
       "4868         FAKE                0  \n",
       "4869         FAKE                0  "
      ]
     },
     "execution_count": 4,
     "metadata": {},
     "output_type": "execute_result"
    }
   ],
   "source": [
    "df.tail(2)"
   ]
  },
  {
   "cell_type": "code",
   "execution_count": 5,
   "id": "37500ad0",
   "metadata": {},
   "outputs": [
    {
     "name": "stdout",
     "output_type": "stream",
     "text": [
      "<class 'pandas.core.frame.DataFrame'>\n",
      "RangeIndex: 4870 entries, 0 to 4869\n",
      "Data columns (total 8 columns):\n",
      " #   Column           Non-Null Count  Dtype \n",
      "---  ------           --------------  ----- \n",
      " 0   Unnamed: 0       4870 non-null   int64 \n",
      " 1   Unnamed: 0.1     4870 non-null   int64 \n",
      " 2   author           4870 non-null   object\n",
      " 3   statement        4870 non-null   object\n",
      " 4   source           4870 non-null   object\n",
      " 5   target           4870 non-null   bool  \n",
      " 6   BinaryTarget     4870 non-null   object\n",
      " 7   BinaryNumTarget  4870 non-null   int64 \n",
      "dtypes: bool(1), int64(3), object(4)\n",
      "memory usage: 271.2+ KB\n"
     ]
    }
   ],
   "source": [
    "df.info()"
   ]
  },
  {
   "cell_type": "code",
   "execution_count": 6,
   "id": "edd749aa",
   "metadata": {},
   "outputs": [
    {
     "data": {
      "text/html": [
       "<div>\n",
       "<style scoped>\n",
       "    .dataframe tbody tr th:only-of-type {\n",
       "        vertical-align: middle;\n",
       "    }\n",
       "\n",
       "    .dataframe tbody tr th {\n",
       "        vertical-align: top;\n",
       "    }\n",
       "\n",
       "    .dataframe thead th {\n",
       "        text-align: right;\n",
       "    }\n",
       "</style>\n",
       "<table border=\"1\" class=\"dataframe\">\n",
       "  <thead>\n",
       "    <tr style=\"text-align: right;\">\n",
       "      <th></th>\n",
       "      <th>Unnamed: 0</th>\n",
       "      <th>Unnamed: 0.1</th>\n",
       "      <th>BinaryNumTarget</th>\n",
       "    </tr>\n",
       "  </thead>\n",
       "  <tbody>\n",
       "    <tr>\n",
       "      <th>count</th>\n",
       "      <td>4870.000000</td>\n",
       "      <td>4870.000000</td>\n",
       "      <td>4870.000000</td>\n",
       "    </tr>\n",
       "    <tr>\n",
       "      <th>mean</th>\n",
       "      <td>1217.500000</td>\n",
       "      <td>1217.500000</td>\n",
       "      <td>0.500000</td>\n",
       "    </tr>\n",
       "    <tr>\n",
       "      <th>std</th>\n",
       "      <td>702.996251</td>\n",
       "      <td>702.996251</td>\n",
       "      <td>0.500051</td>\n",
       "    </tr>\n",
       "    <tr>\n",
       "      <th>min</th>\n",
       "      <td>0.000000</td>\n",
       "      <td>0.000000</td>\n",
       "      <td>0.000000</td>\n",
       "    </tr>\n",
       "    <tr>\n",
       "      <th>25%</th>\n",
       "      <td>609.000000</td>\n",
       "      <td>609.000000</td>\n",
       "      <td>0.000000</td>\n",
       "    </tr>\n",
       "    <tr>\n",
       "      <th>50%</th>\n",
       "      <td>1217.500000</td>\n",
       "      <td>1217.500000</td>\n",
       "      <td>0.500000</td>\n",
       "    </tr>\n",
       "    <tr>\n",
       "      <th>75%</th>\n",
       "      <td>1826.000000</td>\n",
       "      <td>1826.000000</td>\n",
       "      <td>1.000000</td>\n",
       "    </tr>\n",
       "    <tr>\n",
       "      <th>max</th>\n",
       "      <td>2435.000000</td>\n",
       "      <td>2435.000000</td>\n",
       "      <td>1.000000</td>\n",
       "    </tr>\n",
       "  </tbody>\n",
       "</table>\n",
       "</div>"
      ],
      "text/plain": [
       "        Unnamed: 0  Unnamed: 0.1  BinaryNumTarget\n",
       "count  4870.000000   4870.000000      4870.000000\n",
       "mean   1217.500000   1217.500000         0.500000\n",
       "std     702.996251    702.996251         0.500051\n",
       "min       0.000000      0.000000         0.000000\n",
       "25%     609.000000    609.000000         0.000000\n",
       "50%    1217.500000   1217.500000         0.500000\n",
       "75%    1826.000000   1826.000000         1.000000\n",
       "max    2435.000000   2435.000000         1.000000"
      ]
     },
     "execution_count": 6,
     "metadata": {},
     "output_type": "execute_result"
    }
   ],
   "source": [
    "df.describe()"
   ]
  },
  {
   "cell_type": "code",
   "execution_count": 7,
   "id": "2f28b4b2",
   "metadata": {},
   "outputs": [
    {
     "data": {
      "text/plain": [
       "target             1.000000\n",
       "BinaryNumTarget    1.000000\n",
       "Unnamed: 0        -0.000711\n",
       "Unnamed: 0.1      -0.000711\n",
       "Name: BinaryNumTarget, dtype: float64"
      ]
     },
     "execution_count": 7,
     "metadata": {},
     "output_type": "execute_result"
    }
   ],
   "source": [
    "df.corr()['BinaryNumTarget'].sort_values(ascending=False)"
   ]
  },
  {
   "cell_type": "code",
   "execution_count": 8,
   "id": "3385a24f",
   "metadata": {},
   "outputs": [
    {
     "data": {
      "image/png": "[encoded data removed]",
      "text/plain": [
       "<Figure size 1800x1800 with 2 Axes>"
      ]
     },
     "metadata": {
      "needs_background": "light"
     },
     "output_type": "display_data"
    }
   ],
   "source": [
    "import seaborn as sns\n",
    "plt.figure(figsize=(25,25))\n",
    "sns.heatmap(df.corr(), center=0, annot=True)\n",
    "plt.title(\"Correlation Map\")\n",
    "plt.show()"
   ]
  },
  {
   "cell_type": "code",
   "execution_count": 9,
   "id": "b0fbb491",
   "metadata": {},
   "outputs": [],
   "source": [
    "num_atr=[ 'Unnamed: 0.1', 'target']\n",
    "\n",
    "cat_atr=['author','statement','source','BinaryTarget']"
   ]
  },
  {
   "cell_type": "code",
   "execution_count": 10,
   "id": "59a29a0c",
   "metadata": {},
   "outputs": [
    {
     "data": {
      "image/png": "[encoded data removed]",
      "text/plain": [
       "<Figure size 1440x1080 with 1 Axes>"
      ]
     },
     "metadata": {
      "needs_background": "light"
     },
     "output_type": "display_data"
    }
   ],
   "source": [
    "df[num_atr].hist(bins=40, figsize=(20,15)) \n",
    "plt.show()"
   ]
  },
  {
   "cell_type": "code",
   "execution_count": 11,
   "id": "186f1f20",
   "metadata": {},
   "outputs": [
    {
     "data": {
      "image/png": "[encoded data removed]",
      "text/plain": [
       "<Figure size 1440x864 with 2 Axes>"
      ]
     },
     "metadata": {
      "needs_background": "light"
     },
     "output_type": "display_data"
    }
   ],
   "source": [
    "plt.figure(figsize=(20,12))\n",
    "x=1\n",
    "for i in num_atr:\n",
    "    plt.subplot(4,4,x)\n",
    "    plt.scatter(data=df,y='BinaryNumTarget',x=i,alpha=0.5)\n",
    "    plt.ylabel('BinaryNumTarget',fontsize=14)\n",
    "    plt.xlabel(i,fontsize=14)\n",
    "    plt.tight_layout()\n",
    "    x=x+1"
   ]
  },
  {
   "cell_type": "code",
   "execution_count": 12,
   "id": "ff051dab",
   "metadata": {},
   "outputs": [
    {
     "data": {
      "text/plain": [
       "Unnamed: 0         0\n",
       "Unnamed: 0.1       0\n",
       "author             0\n",
       "statement          0\n",
       "source             0\n",
       "target             0\n",
       "BinaryTarget       0\n",
       "BinaryNumTarget    0\n",
       "dtype: int64"
      ]
     },
     "execution_count": 12,
     "metadata": {},
     "output_type": "execute_result"
    }
   ],
   "source": [
    "df.isna().sum()"
   ]
  },
  {
   "cell_type": "code",
   "execution_count": 13,
   "id": "7908983d",
   "metadata": {},
   "outputs": [],
   "source": [
    "df.dropna(inplace=True, axis=0)"
   ]
  },
  {
   "cell_type": "code",
   "execution_count": 14,
   "id": "31414a8b",
   "metadata": {},
   "outputs": [
    {
     "data": {
      "text/plain": [
       "Unnamed: 0         0\n",
       "Unnamed: 0.1       0\n",
       "author             0\n",
       "statement          0\n",
       "source             0\n",
       "target             0\n",
       "BinaryTarget       0\n",
       "BinaryNumTarget    0\n",
       "dtype: int64"
      ]
     },
     "execution_count": 14,
     "metadata": {},
     "output_type": "execute_result"
    }
   ],
   "source": [
    "df.isna().sum()"
   ]
  },
  {
   "cell_type": "code",
   "execution_count": 15,
   "id": "198ced31",
   "metadata": {},
   "outputs": [
    {
     "data": {
      "text/plain": [
       "(4870, 8)"
      ]
     },
     "execution_count": 15,
     "metadata": {},
     "output_type": "execute_result"
    }
   ],
   "source": [
    "df.shape"
   ]
  },
  {
   "cell_type": "code",
   "execution_count": 16,
   "id": "f8c04b36",
   "metadata": {},
   "outputs": [],
   "source": [
    "from sklearn.preprocessing import StandardScaler\n",
    "from sklearn.metrics import mean_squared_error,r2_score "
   ]
  },
  {
   "cell_type": "code",
   "execution_count": 17,
   "id": "4fecd122",
   "metadata": {},
   "outputs": [],
   "source": [
    "from sklearn.model_selection import train_test_split\n",
    "X= df.iloc[:,1:-1]\n",
    "y= df.iloc[:, -1]\n",
    "X_train,X_test,y_train,y_test=train_test_split(X,y,test_size=0.3,random_state=42)"
   ]
  },
  {
   "cell_type": "code",
   "execution_count": 18,
   "id": "4fc17cd9",
   "metadata": {},
   "outputs": [
    {
     "data": {
      "text/html": [
       "<div>\n",
       "<style scoped>\n",
       "    .dataframe tbody tr th:only-of-type {\n",
       "        vertical-align: middle;\n",
       "    }\n",
       "\n",
       "    .dataframe tbody tr th {\n",
       "        vertical-align: top;\n",
       "    }\n",
       "\n",
       "    .dataframe thead th {\n",
       "        text-align: right;\n",
       "    }\n",
       "</style>\n",
       "<table border=\"1\" class=\"dataframe\">\n",
       "  <thead>\n",
       "    <tr style=\"text-align: right;\">\n",
       "      <th></th>\n",
       "      <th>index</th>\n",
       "      <th>Unnamed: 0</th>\n",
       "      <th>Unnamed: 0.1</th>\n",
       "      <th>author</th>\n",
       "      <th>statement</th>\n",
       "      <th>source</th>\n",
       "      <th>target</th>\n",
       "      <th>BinaryTarget</th>\n",
       "      <th>BinaryNumTarget</th>\n",
       "    </tr>\n",
       "  </thead>\n",
       "  <tbody>\n",
       "    <tr>\n",
       "      <th>0</th>\n",
       "      <td>0</td>\n",
       "      <td>0</td>\n",
       "      <td>0</td>\n",
       "      <td>Jill Terreri</td>\n",
       "      <td>New York is \"leading the nation with the lowes...</td>\n",
       "      <td>NYS Department of Corrections and Community Su...</td>\n",
       "      <td>True</td>\n",
       "      <td>REAL</td>\n",
       "      <td>1</td>\n",
       "    </tr>\n",
       "    <tr>\n",
       "      <th>1</th>\n",
       "      <td>1</td>\n",
       "      <td>1</td>\n",
       "      <td>1</td>\n",
       "      <td>Eleanor Hildebrandt</td>\n",
       "      <td>“Iowa ranks 45th in the U.S. for internet conn...</td>\n",
       "      <td>Cindy Axne</td>\n",
       "      <td>True</td>\n",
       "      <td>REAL</td>\n",
       "      <td>1</td>\n",
       "    </tr>\n",
       "    <tr>\n",
       "      <th>2</th>\n",
       "      <td>2</td>\n",
       "      <td>2</td>\n",
       "      <td>2</td>\n",
       "      <td>Emily Zirkelbach</td>\n",
       "      <td>“FUN FACT: West Virginia is home to zero billi...</td>\n",
       "      <td>David Gura</td>\n",
       "      <td>True</td>\n",
       "      <td>REAL</td>\n",
       "      <td>1</td>\n",
       "    </tr>\n",
       "    <tr>\n",
       "      <th>3</th>\n",
       "      <td>3</td>\n",
       "      <td>3</td>\n",
       "      <td>3</td>\n",
       "      <td>Madeline Heim</td>\n",
       "      <td>Says gubernatorial candidate Rebecca Kleefisch...</td>\n",
       "      <td>Kelda Helen Roys</td>\n",
       "      <td>True</td>\n",
       "      <td>REAL</td>\n",
       "      <td>1</td>\n",
       "    </tr>\n",
       "    <tr>\n",
       "      <th>4</th>\n",
       "      <td>4</td>\n",
       "      <td>4</td>\n",
       "      <td>4</td>\n",
       "      <td>Sabine Martin</td>\n",
       "      <td>The Biden administration \"published a study co...</td>\n",
       "      <td>Randy Feenstra</td>\n",
       "      <td>True</td>\n",
       "      <td>REAL</td>\n",
       "      <td>1</td>\n",
       "    </tr>\n",
       "    <tr>\n",
       "      <th>...</th>\n",
       "      <td>...</td>\n",
       "      <td>...</td>\n",
       "      <td>...</td>\n",
       "      <td>...</td>\n",
       "      <td>...</td>\n",
       "      <td>...</td>\n",
       "      <td>...</td>\n",
       "      <td>...</td>\n",
       "      <td>...</td>\n",
       "    </tr>\n",
       "    <tr>\n",
       "      <th>4865</th>\n",
       "      <td>4865</td>\n",
       "      <td>2431</td>\n",
       "      <td>2431</td>\n",
       "      <td>Bill McCarthy</td>\n",
       "      <td>\"Clinton campaign official arrested by FBI on ...</td>\n",
       "      <td>Bloggers</td>\n",
       "      <td>False</td>\n",
       "      <td>FAKE</td>\n",
       "      <td>0</td>\n",
       "    </tr>\n",
       "    <tr>\n",
       "      <th>4866</th>\n",
       "      <td>4866</td>\n",
       "      <td>2432</td>\n",
       "      <td>2432</td>\n",
       "      <td>Miriam Valverde</td>\n",
       "      <td>\"Our courts find that 80 percent of those who ...</td>\n",
       "      <td>Jeff Sessions</td>\n",
       "      <td>False</td>\n",
       "      <td>FAKE</td>\n",
       "      <td>0</td>\n",
       "    </tr>\n",
       "    <tr>\n",
       "      <th>4867</th>\n",
       "      <td>4867</td>\n",
       "      <td>2433</td>\n",
       "      <td>2433</td>\n",
       "      <td>Kiannah Sepeda-Miller</td>\n",
       "      <td>Says a progressive income tax proposal from De...</td>\n",
       "      <td>Evelyn Sanguinetti</td>\n",
       "      <td>False</td>\n",
       "      <td>FAKE</td>\n",
       "      <td>0</td>\n",
       "    </tr>\n",
       "    <tr>\n",
       "      <th>4868</th>\n",
       "      <td>4868</td>\n",
       "      <td>2434</td>\n",
       "      <td>2434</td>\n",
       "      <td>Manuela Tobias</td>\n",
       "      <td>\"Maxine Waters Is Getting Criminally Charged!\"</td>\n",
       "      <td>Bloggers</td>\n",
       "      <td>False</td>\n",
       "      <td>FAKE</td>\n",
       "      <td>0</td>\n",
       "    </tr>\n",
       "    <tr>\n",
       "      <th>4869</th>\n",
       "      <td>4869</td>\n",
       "      <td>2435</td>\n",
       "      <td>2435</td>\n",
       "      <td>Bill McCarthy</td>\n",
       "      <td>\"Twitter caught leaking Donald Trump’s private...</td>\n",
       "      <td>Bloggers</td>\n",
       "      <td>False</td>\n",
       "      <td>FAKE</td>\n",
       "      <td>0</td>\n",
       "    </tr>\n",
       "  </tbody>\n",
       "</table>\n",
       "<p>4870 rows × 9 columns</p>\n",
       "</div>"
      ],
      "text/plain": [
       "      index  Unnamed: 0  Unnamed: 0.1                 author  \\\n",
       "0         0           0             0           Jill Terreri   \n",
       "1         1           1             1    Eleanor Hildebrandt   \n",
       "2         2           2             2       Emily Zirkelbach   \n",
       "3         3           3             3          Madeline Heim   \n",
       "4         4           4             4          Sabine Martin   \n",
       "...     ...         ...           ...                    ...   \n",
       "4865   4865        2431          2431          Bill McCarthy   \n",
       "4866   4866        2432          2432        Miriam Valverde   \n",
       "4867   4867        2433          2433  Kiannah Sepeda-Miller   \n",
       "4868   4868        2434          2434         Manuela Tobias   \n",
       "4869   4869        2435          2435          Bill McCarthy   \n",
       "\n",
       "                                              statement  \\\n",
       "0     New York is \"leading the nation with the lowes...   \n",
       "1     “Iowa ranks 45th in the U.S. for internet conn...   \n",
       "2     “FUN FACT: West Virginia is home to zero billi...   \n",
       "3     Says gubernatorial candidate Rebecca Kleefisch...   \n",
       "4     The Biden administration \"published a study co...   \n",
       "...                                                 ...   \n",
       "4865  \"Clinton campaign official arrested by FBI on ...   \n",
       "4866  \"Our courts find that 80 percent of those who ...   \n",
       "4867  Says a progressive income tax proposal from De...   \n",
       "4868     \"Maxine Waters Is Getting Criminally Charged!\"   \n",
       "4869  \"Twitter caught leaking Donald Trump’s private...   \n",
       "\n",
       "                                                 source  target BinaryTarget  \\\n",
       "0     NYS Department of Corrections and Community Su...    True         REAL   \n",
       "1                                            Cindy Axne    True         REAL   \n",
       "2                                            David Gura    True         REAL   \n",
       "3                                      Kelda Helen Roys    True         REAL   \n",
       "4                                        Randy Feenstra    True         REAL   \n",
       "...                                                 ...     ...          ...   \n",
       "4865                                           Bloggers   False         FAKE   \n",
       "4866                                      Jeff Sessions   False         FAKE   \n",
       "4867                                 Evelyn Sanguinetti   False         FAKE   \n",
       "4868                                           Bloggers   False         FAKE   \n",
       "4869                                           Bloggers   False         FAKE   \n",
       "\n",
       "      BinaryNumTarget  \n",
       "0                   1  \n",
       "1                   1  \n",
       "2                   1  \n",
       "3                   1  \n",
       "4                   1  \n",
       "...               ...  \n",
       "4865                0  \n",
       "4866                0  \n",
       "4867                0  \n",
       "4868                0  \n",
       "4869                0  \n",
       "\n",
       "[4870 rows x 9 columns]"
      ]
     },
     "execution_count": 18,
     "metadata": {},
     "output_type": "execute_result"
    }
   ],
   "source": [
    "df. reset_index()"
   ]
  },
  {
   "cell_type": "code",
   "execution_count": 19,
   "id": "8a58f4ff",
   "metadata": {},
   "outputs": [
    {
     "name": "stderr",
     "output_type": "stream",
     "text": [
      "C:\\Users\\Acer\\anaconda3\\lib\\site-packages\\pandas\\core\\frame.py:3678: SettingWithCopyWarning: \n",
      "A value is trying to be set on a copy of a slice from a DataFrame.\n",
      "Try using .loc[row_indexer,col_indexer] = value instead\n",
      "\n",
      "See the caveats in the documentation: https://pandas.pydata.org/pandas-docs/stable/user_guide/indexing.html#returning-a-view-versus-a-copy\n",
      "  self[col] = igetitem(value, i)\n"
     ]
    }
   ],
   "source": [
    "from sklearn.preprocessing import StandardScaler\n",
    "ss = StandardScaler()\n",
    "#ss.fit_transform(X_train[num_atr])\n",
    "X_train[num_atr] = ss.fit_transform(X_train[num_atr])\n",
    "\n"
   ]
  },
  {
   "cell_type": "code",
   "execution_count": 20,
   "id": "41a26307",
   "metadata": {},
   "outputs": [
    {
     "data": {
      "text/html": [
       "<div>\n",
       "<style scoped>\n",
       "    .dataframe tbody tr th:only-of-type {\n",
       "        vertical-align: middle;\n",
       "    }\n",
       "\n",
       "    .dataframe tbody tr th {\n",
       "        vertical-align: top;\n",
       "    }\n",
       "\n",
       "    .dataframe thead th {\n",
       "        text-align: right;\n",
       "    }\n",
       "</style>\n",
       "<table border=\"1\" class=\"dataframe\">\n",
       "  <thead>\n",
       "    <tr style=\"text-align: right;\">\n",
       "      <th></th>\n",
       "      <th>Unnamed: 0.1</th>\n",
       "      <th>target</th>\n",
       "    </tr>\n",
       "  </thead>\n",
       "  <tbody>\n",
       "    <tr>\n",
       "      <th>4725</th>\n",
       "      <td>1.527575</td>\n",
       "      <td>-0.985150</td>\n",
       "    </tr>\n",
       "    <tr>\n",
       "      <th>3214</th>\n",
       "      <td>-0.625366</td>\n",
       "      <td>-0.985150</td>\n",
       "    </tr>\n",
       "    <tr>\n",
       "      <th>498</th>\n",
       "      <td>-1.027172</td>\n",
       "      <td>1.015074</td>\n",
       "    </tr>\n",
       "    <tr>\n",
       "      <th>4235</th>\n",
       "      <td>0.829401</td>\n",
       "      <td>-0.985150</td>\n",
       "    </tr>\n",
       "    <tr>\n",
       "      <th>2312</th>\n",
       "      <td>1.557497</td>\n",
       "      <td>1.015074</td>\n",
       "    </tr>\n",
       "  </tbody>\n",
       "</table>\n",
       "</div>"
      ],
      "text/plain": [
       "      Unnamed: 0.1    target\n",
       "4725      1.527575 -0.985150\n",
       "3214     -0.625366 -0.985150\n",
       "498      -1.027172  1.015074\n",
       "4235      0.829401 -0.985150\n",
       "2312      1.557497  1.015074"
      ]
     },
     "execution_count": 20,
     "metadata": {},
     "output_type": "execute_result"
    }
   ],
   "source": [
    "X_train[num_atr].head()"
   ]
  },
  {
   "cell_type": "code",
   "execution_count": 21,
   "id": "4a19ab66",
   "metadata": {},
   "outputs": [
    {
     "name": "stderr",
     "output_type": "stream",
     "text": [
      "C:\\Users\\Acer\\anaconda3\\lib\\site-packages\\pandas\\core\\frame.py:3641: SettingWithCopyWarning: \n",
      "A value is trying to be set on a copy of a slice from a DataFrame.\n",
      "Try using .loc[row_indexer,col_indexer] = value instead\n",
      "\n",
      "See the caveats in the documentation: https://pandas.pydata.org/pandas-docs/stable/user_guide/indexing.html#returning-a-view-versus-a-copy\n",
      "  self[k1] = value[k2]\n"
     ]
    }
   ],
   "source": [
    "from sklearn.preprocessing import LabelEncoder\n",
    "le = LabelEncoder()\n",
    "X_train[cat_atr] = X_train[cat_atr].apply(le.fit_transform)"
   ]
  },
  {
   "cell_type": "code",
   "execution_count": 22,
   "id": "b85288b0",
   "metadata": {},
   "outputs": [
    {
     "data": {
      "text/html": [
       "<div>\n",
       "<style scoped>\n",
       "    .dataframe tbody tr th:only-of-type {\n",
       "        vertical-align: middle;\n",
       "    }\n",
       "\n",
       "    .dataframe tbody tr th {\n",
       "        vertical-align: top;\n",
       "    }\n",
       "\n",
       "    .dataframe thead th {\n",
       "        text-align: right;\n",
       "    }\n",
       "</style>\n",
       "<table border=\"1\" class=\"dataframe\">\n",
       "  <thead>\n",
       "    <tr style=\"text-align: right;\">\n",
       "      <th></th>\n",
       "      <th>author</th>\n",
       "      <th>statement</th>\n",
       "      <th>source</th>\n",
       "      <th>BinaryTarget</th>\n",
       "    </tr>\n",
       "  </thead>\n",
       "  <tbody>\n",
       "    <tr>\n",
       "      <th>4725</th>\n",
       "      <td>44</td>\n",
       "      <td>2086</td>\n",
       "      <td>1087</td>\n",
       "      <td>0</td>\n",
       "    </tr>\n",
       "    <tr>\n",
       "      <th>3214</th>\n",
       "      <td>162</td>\n",
       "      <td>367</td>\n",
       "      <td>342</td>\n",
       "      <td>0</td>\n",
       "    </tr>\n",
       "    <tr>\n",
       "      <th>498</th>\n",
       "      <td>184</td>\n",
       "      <td>683</td>\n",
       "      <td>1061</td>\n",
       "      <td>1</td>\n",
       "    </tr>\n",
       "    <tr>\n",
       "      <th>4235</th>\n",
       "      <td>252</td>\n",
       "      <td>1998</td>\n",
       "      <td>342</td>\n",
       "      <td>0</td>\n",
       "    </tr>\n",
       "    <tr>\n",
       "      <th>2312</th>\n",
       "      <td>215</td>\n",
       "      <td>1322</td>\n",
       "      <td>508</td>\n",
       "      <td>1</td>\n",
       "    </tr>\n",
       "  </tbody>\n",
       "</table>\n",
       "</div>"
      ],
      "text/plain": [
       "      author  statement  source  BinaryTarget\n",
       "4725      44       2086    1087             0\n",
       "3214     162        367     342             0\n",
       "498      184        683    1061             1\n",
       "4235     252       1998     342             0\n",
       "2312     215       1322     508             1"
      ]
     },
     "execution_count": 22,
     "metadata": {},
     "output_type": "execute_result"
    }
   ],
   "source": [
    "X_train[cat_atr].head()"
   ]
  },
  {
   "cell_type": "code",
   "execution_count": 23,
   "id": "36507414",
   "metadata": {},
   "outputs": [
    {
     "name": "stdout",
     "output_type": "stream",
     "text": [
      "      author  statement  source  BinaryTarget\n",
      "4725      44       2086    1087             0\n",
      "3214     162        367     342             0\n",
      "498      184        683    1061             1\n",
      "4235     252       1998     342             0\n",
      "2312     215       1322     508             1\n",
      "      Unnamed: 0.1    target\n",
      "4725      1.527575 -0.985150\n",
      "3214     -0.625366 -0.985150\n",
      "498      -1.027172  1.015074\n",
      "4235      0.829401 -0.985150\n",
      "2312      1.557497  1.015074\n"
     ]
    }
   ],
   "source": [
    "#a = pd.DataFrame(X_train[cat_atr])\n",
    "#b = pd.DataFrame(X_train[num_atr])\n",
    "a=X_train[cat_atr]\n",
    "b=X_train[num_atr]\n",
    "#b = ss.transform(price[num_atr])\n",
    "print (a.head())\n",
    "print (b.head())\n",
    "# 7.1 Horizontally concatenate now\n",
    "#Xtr = np.hstack([a,b]) # It is not X_train\n",
    "#Xtr.shape # (11,15)"
   ]
  },
  {
   "cell_type": "code",
   "execution_count": 24,
   "id": "cfc46a82",
   "metadata": {},
   "outputs": [],
   "source": [
    "Xtr = pd.concat([a,b], axis=1)"
   ]
  },
  {
   "cell_type": "code",
   "execution_count": 25,
   "id": "b9e2727e",
   "metadata": {},
   "outputs": [
    {
     "data": {
      "text/html": [
       "<div>\n",
       "<style scoped>\n",
       "    .dataframe tbody tr th:only-of-type {\n",
       "        vertical-align: middle;\n",
       "    }\n",
       "\n",
       "    .dataframe tbody tr th {\n",
       "        vertical-align: top;\n",
       "    }\n",
       "\n",
       "    .dataframe thead th {\n",
       "        text-align: right;\n",
       "    }\n",
       "</style>\n",
       "<table border=\"1\" class=\"dataframe\">\n",
       "  <thead>\n",
       "    <tr style=\"text-align: right;\">\n",
       "      <th></th>\n",
       "      <th>author</th>\n",
       "      <th>statement</th>\n",
       "      <th>source</th>\n",
       "      <th>BinaryTarget</th>\n",
       "      <th>Unnamed: 0.1</th>\n",
       "      <th>target</th>\n",
       "    </tr>\n",
       "  </thead>\n",
       "  <tbody>\n",
       "    <tr>\n",
       "      <th>4725</th>\n",
       "      <td>44</td>\n",
       "      <td>2086</td>\n",
       "      <td>1087</td>\n",
       "      <td>0</td>\n",
       "      <td>1.527575</td>\n",
       "      <td>-0.985150</td>\n",
       "    </tr>\n",
       "    <tr>\n",
       "      <th>3214</th>\n",
       "      <td>162</td>\n",
       "      <td>367</td>\n",
       "      <td>342</td>\n",
       "      <td>0</td>\n",
       "      <td>-0.625366</td>\n",
       "      <td>-0.985150</td>\n",
       "    </tr>\n",
       "    <tr>\n",
       "      <th>498</th>\n",
       "      <td>184</td>\n",
       "      <td>683</td>\n",
       "      <td>1061</td>\n",
       "      <td>1</td>\n",
       "      <td>-1.027172</td>\n",
       "      <td>1.015074</td>\n",
       "    </tr>\n",
       "    <tr>\n",
       "      <th>4235</th>\n",
       "      <td>252</td>\n",
       "      <td>1998</td>\n",
       "      <td>342</td>\n",
       "      <td>0</td>\n",
       "      <td>0.829401</td>\n",
       "      <td>-0.985150</td>\n",
       "    </tr>\n",
       "    <tr>\n",
       "      <th>2312</th>\n",
       "      <td>215</td>\n",
       "      <td>1322</td>\n",
       "      <td>508</td>\n",
       "      <td>1</td>\n",
       "      <td>1.557497</td>\n",
       "      <td>1.015074</td>\n",
       "    </tr>\n",
       "  </tbody>\n",
       "</table>\n",
       "</div>"
      ],
      "text/plain": [
       "      author  statement  source  BinaryTarget  Unnamed: 0.1    target\n",
       "4725      44       2086    1087             0      1.527575 -0.985150\n",
       "3214     162        367     342             0     -0.625366 -0.985150\n",
       "498      184        683    1061             1     -1.027172  1.015074\n",
       "4235     252       1998     342             0      0.829401 -0.985150\n",
       "2312     215       1322     508             1      1.557497  1.015074"
      ]
     },
     "execution_count": 25,
     "metadata": {},
     "output_type": "execute_result"
    }
   ],
   "source": [
    "Xtr.head()"
   ]
  },
  {
   "cell_type": "code",
   "execution_count": 26,
   "id": "d493fce9",
   "metadata": {},
   "outputs": [
    {
     "data": {
      "text/plain": [
       "4725    0\n",
       "3214    0\n",
       "498     1\n",
       "4235    0\n",
       "2312    1\n",
       "Name: BinaryNumTarget, dtype: int64"
      ]
     },
     "execution_count": 26,
     "metadata": {},
     "output_type": "execute_result"
    }
   ],
   "source": [
    "y_train.head()"
   ]
  },
  {
   "cell_type": "code",
   "execution_count": 27,
   "id": "3c1283b9",
   "metadata": {},
   "outputs": [],
   "source": [
    "from sklearn.ensemble import RandomForestRegressor\n",
    "reg = RandomForestRegressor()"
   ]
  },
  {
   "cell_type": "code",
   "execution_count": 28,
   "id": "1380e7f7",
   "metadata": {},
   "outputs": [
    {
     "data": {
      "text/plain": [
       "RandomForestRegressor()"
      ]
     },
     "execution_count": 28,
     "metadata": {},
     "output_type": "execute_result"
    }
   ],
   "source": [
    "reg.fit(Xtr, y_train)"
   ]
  },
  {
   "cell_type": "code",
   "execution_count": 29,
   "id": "f7f675b4",
   "metadata": {},
   "outputs": [
    {
     "name": "stderr",
     "output_type": "stream",
     "text": [
      "C:\\Users\\Acer\\anaconda3\\lib\\site-packages\\pandas\\core\\frame.py:3678: SettingWithCopyWarning: \n",
      "A value is trying to be set on a copy of a slice from a DataFrame.\n",
      "Try using .loc[row_indexer,col_indexer] = value instead\n",
      "\n",
      "See the caveats in the documentation: https://pandas.pydata.org/pandas-docs/stable/user_guide/indexing.html#returning-a-view-versus-a-copy\n",
      "  self[col] = igetitem(value, i)\n",
      "C:\\Users\\Acer\\anaconda3\\lib\\site-packages\\pandas\\core\\frame.py:3641: SettingWithCopyWarning: \n",
      "A value is trying to be set on a copy of a slice from a DataFrame.\n",
      "Try using .loc[row_indexer,col_indexer] = value instead\n",
      "\n",
      "See the caveats in the documentation: https://pandas.pydata.org/pandas-docs/stable/user_guide/indexing.html#returning-a-view-versus-a-copy\n",
      "  self[k1] = value[k2]\n"
     ]
    }
   ],
   "source": [
    "ss = StandardScaler()\n",
    "#ss.fit_transform(X_train[num_atr])\n",
    "X_test[num_atr] = ss.fit_transform(X_test[num_atr])\n",
    "\n",
    "le = LabelEncoder()\n",
    "X_test[cat_atr] = X_test[cat_atr].apply(le.fit_transform)"
   ]
  },
  {
   "cell_type": "code",
   "execution_count": 30,
   "id": "d6e1f3bf",
   "metadata": {},
   "outputs": [],
   "source": [
    "a=X_test[cat_atr]\n",
    "b=X_test[num_atr]"
   ]
  },
  {
   "cell_type": "code",
   "execution_count": 31,
   "id": "217c5055",
   "metadata": {},
   "outputs": [],
   "source": [
    "Xtr1 = pd.concat([a,b], axis=1)"
   ]
  },
  {
   "cell_type": "code",
   "execution_count": 32,
   "id": "f1d447f0",
   "metadata": {},
   "outputs": [
    {
     "data": {
      "text/html": [
       "<div>\n",
       "<style scoped>\n",
       "    .dataframe tbody tr th:only-of-type {\n",
       "        vertical-align: middle;\n",
       "    }\n",
       "\n",
       "    .dataframe tbody tr th {\n",
       "        vertical-align: top;\n",
       "    }\n",
       "\n",
       "    .dataframe thead th {\n",
       "        text-align: right;\n",
       "    }\n",
       "</style>\n",
       "<table border=\"1\" class=\"dataframe\">\n",
       "  <thead>\n",
       "    <tr style=\"text-align: right;\">\n",
       "      <th></th>\n",
       "      <th>author</th>\n",
       "      <th>statement</th>\n",
       "      <th>source</th>\n",
       "      <th>BinaryTarget</th>\n",
       "      <th>Unnamed: 0.1</th>\n",
       "      <th>target</th>\n",
       "    </tr>\n",
       "  </thead>\n",
       "  <tbody>\n",
       "    <tr>\n",
       "      <th>1654</th>\n",
       "      <td>9</td>\n",
       "      <td>276</td>\n",
       "      <td>189</td>\n",
       "      <td>1</td>\n",
       "      <td>0.623381</td>\n",
       "      <td>0.965681</td>\n",
       "    </tr>\n",
       "    <tr>\n",
       "      <th>1101</th>\n",
       "      <td>103</td>\n",
       "      <td>177</td>\n",
       "      <td>375</td>\n",
       "      <td>1</td>\n",
       "      <td>-0.160508</td>\n",
       "      <td>0.965681</td>\n",
       "    </tr>\n",
       "    <tr>\n",
       "      <th>1149</th>\n",
       "      <td>182</td>\n",
       "      <td>1035</td>\n",
       "      <td>484</td>\n",
       "      <td>1</td>\n",
       "      <td>-0.092467</td>\n",
       "      <td>0.965681</td>\n",
       "    </tr>\n",
       "    <tr>\n",
       "      <th>2763</th>\n",
       "      <td>192</td>\n",
       "      <td>569</td>\n",
       "      <td>190</td>\n",
       "      <td>0</td>\n",
       "      <td>-1.254833</td>\n",
       "      <td>-1.035539</td>\n",
       "    </tr>\n",
       "    <tr>\n",
       "      <th>3145</th>\n",
       "      <td>15</td>\n",
       "      <td>630</td>\n",
       "      <td>4</td>\n",
       "      <td>0</td>\n",
       "      <td>-0.713340</td>\n",
       "      <td>-1.035539</td>\n",
       "    </tr>\n",
       "  </tbody>\n",
       "</table>\n",
       "</div>"
      ],
      "text/plain": [
       "      author  statement  source  BinaryTarget  Unnamed: 0.1    target\n",
       "1654       9        276     189             1      0.623381  0.965681\n",
       "1101     103        177     375             1     -0.160508  0.965681\n",
       "1149     182       1035     484             1     -0.092467  0.965681\n",
       "2763     192        569     190             0     -1.254833 -1.035539\n",
       "3145      15        630       4             0     -0.713340 -1.035539"
      ]
     },
     "execution_count": 32,
     "metadata": {},
     "output_type": "execute_result"
    }
   ],
   "source": [
    "Xtr1.head()"
   ]
  },
  {
   "cell_type": "code",
   "execution_count": 33,
   "id": "4ce59364",
   "metadata": {},
   "outputs": [
    {
     "data": {
      "text/plain": [
       "array([1., 1., 1., ..., 0., 1., 0.])"
      ]
     },
     "execution_count": 33,
     "metadata": {},
     "output_type": "execute_result"
    }
   ],
   "source": [
    "reg.predict(Xtr1)"
   ]
  },
  {
   "cell_type": "code",
   "execution_count": null,
   "id": "cf90f349",
   "metadata": {},
   "outputs": [],
   "source": []
  }
 ],
 "metadata": {
  "kernelspec": {
   "display_name": "Python 3 (ipykernel)",
   "language": "python",
   "name": "python3"
  },
  "language_info": {
   "codemirror_mode": {
    "name": "ipython",
    "version": 3
   },
   "file_extension": ".py",
   "mimetype": "text/x-python",
   "name": "python",
   "nbconvert_exporter": "python",
   "pygments_lexer": "ipython3",
   "version": "3.9.7"
  }
 },
 "nbformat": 4,
 "nbformat_minor": 5
}
